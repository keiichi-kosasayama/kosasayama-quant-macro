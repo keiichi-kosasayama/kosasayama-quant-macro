{
  "nbformat": 4,
  "nbformat_minor": 0,
  "metadata": {
    "colab": {
      "provenance": []
    },
    "kernelspec": {
      "name": "python3",
      "display_name": "Python 3"
    },
    "language_info": {
      "name": "python"
    }
  },
  "cells": [
    {
      "cell_type": "code",
      "execution_count": null,
      "metadata": {
        "colab": {
          "base_uri": "https://localhost:8080/"
        },
        "id": "Jh8SHX_ez4LZ",
        "outputId": "e5a3047e-9865-4637-b926-a0fee4d1b0af"
      },
      "outputs": [
        {
          "output_type": "stream",
          "name": "stdout",
          "text": [
            "                    g         a         t        tt        ct  Growth Rate  \\\n",
            "countrycode                                                                  \n",
            "CAN          0.887700  0.346190  0.653810  0.224511 -3.339495     0.887700   \n",
            "DEU          0.661055  0.370730  0.629270  0.540233 -2.604038     0.661055   \n",
            "FRA          0.829236  0.381194  0.618806  0.151519  1.041396     0.829236   \n",
            "GBR          1.015544  0.412993  0.587007  0.428530  9.080060     1.015544   \n",
            "ITA         -0.037181  0.484835  0.515165 -1.470202  0.351643    -0.037181   \n",
            "JPN          0.710956  0.430601  0.569399  0.239088 -6.155113     0.710956   \n",
            "USA          1.536985  0.393260  0.606740  1.114064 -1.675920     1.536985   \n",
            "\n",
            "             TFP Growth  Capital Deepening  TFP Share  Capital Share  \n",
            "countrycode                                                           \n",
            "CAN            0.224511          -3.339495   0.653810       0.346190  \n",
            "DEU            0.540233          -2.604038   0.629270       0.370730  \n",
            "FRA            0.151519           1.041396   0.618806       0.381194  \n",
            "GBR            0.428530           9.080060   0.587007       0.412993  \n",
            "ITA           -1.470202           0.351643   0.515165       0.484835  \n",
            "JPN            0.239088          -6.155113   0.569399       0.430601  \n",
            "USA            1.114064          -1.675920   0.606740       0.393260  \n"
          ]
        }
      ],
      "source": [
        "import pandas as pd \n",
        "import numpy as np\n",
        "\n",
        "# Load data\n",
        "url = 'https://dataverse.nl/api/access/datafile/354098'\n",
        "pwt1001 = pd.read_stata(url)\n",
        "\n",
        "# Filter and select relevant columns\n",
        "countries = [\"France\", \"Germany\", \"Canada\", \"Italy\", \"Japan\", \"United Kingdom\", \"United States\"]\n",
        "data = pwt1001.loc[pwt1001['country'].isin(countries)][['year', 'countrycode', 'rgdpna', 'rkna', 'emp', 'labsh', 'rtfpna', 'pop','avh']]\n",
        "data = data.loc[(data['year'] >= 1945) & (data['year'] <= 2019)].dropna()\n",
        "\n",
        "# Calculate additional columns\n",
        "data['alpha'] = 1 - data['labsh'] # Labor share of Income\n",
        "data['hours'] = data['emp'] * data['avh']\n",
        "data['y_n'] = np.log(data['rgdpna'] / data['emp']) # Logarithmized GDP per Capita\n",
        "data['a'] = 1 - data['labsh']  # Capital share \n",
        "data['t'] = data['labsh']  # TFP share\n",
        "data['tfp_term'] = np.log(data['rtfpna'] ^ (1 / (1 - data['alpha']))) # Logarithmized TFP Growing\n",
        "data['cap_term'] = np.log((data['rkna'] / data['rgdpna']) ^ (data['alpha'] / ( 1 - data['alpha'])) # Logarithmized Capital Deeping\n",
        "data['lab_term'] = np.log(data['hours'] / data['pop'])\n",
        "\n",
        "# Order by year\n",
        "data = data.sort_values('year')\n",
        "\n",
        "# Group by countrycode\n",
        "grouped_data = data.groupby('countrycode')\n",
        "\n",
        "# Calculate growth rates and Solow residual\n",
        "data['g'] = grouped_data['y_n'].diff() * 100  # Growth rate of GDP per capita\n",
        "data['tt'] = grouped_data['tfp_term'].diff() * 100 \n",
        "data['ct'] = grouped_data['cap_term'].diff() * 100\n",
        "\n",
        "# Remove missing values\n",
        "data = data.dropna()\n",
        "\n",
        "# Calculate summary statistics\n",
        "summary = data.groupby('countrycode').agg({'g': 'mean', 'a': 'mean', 't': 'mean',})\n",
        "\n",
        "# Calculate additional summary statistics\n",
        "summary['Growth Rate'] = summary['g']\n",
        "summary['TFP Growth'] = summary['tt']\n",
        "summary['Capital Deepening'] = summary['ct']\n",
        "summary['TFP Share'] = summary['t']\n",
        "summary['Capital Share'] = summary['a']\n",
        "\n",
        "# Print Output\n",
        "print(summary)\n",
        "\n"
      ]
    }
  ]
}