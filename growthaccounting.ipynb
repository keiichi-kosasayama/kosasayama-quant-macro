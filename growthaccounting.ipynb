{
  "cells": [
    {
      "cell_type": "code",
      "execution_count": 27,
      "metadata": {
        "colab": {
          "base_uri": "https://localhost:8080/"
        },
        "id": "Jh8SHX_ez4LZ",
        "outputId": "e5a3047e-9865-4637-b926-a0fee4d1b0af"
      },
      "outputs": [
        {
          "ename": "ModuleNotFoundError",
          "evalue": "No module named 'pandas'",
          "output_type": "error",
          "traceback": [
            "\u001b[1;31m---------------------------------------------------------------------------\u001b[0m",
            "\u001b[1;31mModuleNotFoundError\u001b[0m                       Traceback (most recent call last)",
            "Cell \u001b[1;32mIn[27], line 1\u001b[0m\n\u001b[1;32m----> 1\u001b[0m \u001b[39mimport\u001b[39;00m \u001b[39mpandas\u001b[39;00m \u001b[39mas\u001b[39;00m \u001b[39mpd\u001b[39;00m \n\u001b[0;32m      2\u001b[0m \u001b[39mimport\u001b[39;00m \u001b[39mnumpy\u001b[39;00m \u001b[39mas\u001b[39;00m \u001b[39mnp\u001b[39;00m\n\u001b[0;32m      4\u001b[0m \u001b[39m# Load data\u001b[39;00m\n",
            "\u001b[1;31mModuleNotFoundError\u001b[0m: No module named 'pandas'"
          ]
        }
      ],
      "source": [
        "import pandas as pd \n",
        "import numpy as np\n",
        "\n",
        "# Load data\n",
        "url = 'https://dataverse.nl/api/access/datafile/354098'\n",
        "pwt1001 = pd.read_stata(url)\n",
        "\n",
        "# Filter and select relevant columns\n",
        "countries = [\"France\", \"Germany\", \"Canada\", \"Italy\", \"Japan\", \"United Kingdom\", \"United States\"]\n",
        "data = pwt1001.loc[pwt1001['country'].isin(countries)][['year', 'countrycode', 'rgdpna', 'rkna', 'emp', 'labsh', 'rtfpna', 'pop','avh']]\n",
        "data = data.loc[(data['year'] >= 1995) & (data['year'] <= 2019)].dropna()\n",
        "\n",
        "# Calculate additional columns\n",
        "data['alpha'] = 1 - data['labsh'] # Labor share of Income\n",
        "data['hours'] = data['emp'] * data['avh']\n",
        "data['y_n'] = np.log(data['rgdpna'] / data['emp']) # Logarithmized GDP per Capita\n",
        "data['a'] = 1 - data['labsh']  # Capital share \n",
        "data['t'] = data['labsh']  # TFP share\n",
        "data['tfp_term'] = np.log(data['rtfpna'] ** (1 / (1 - data['alpha']))) # Logarithmized TFP Growing\n",
        "data['cap_term'] = np.log((data['rkna'] / data['rgdpna']) ** (data['alpha'] / ( 1 - data['alpha']))) # Logarithmized Capital Deeping\n",
        "data['lab_term'] = np.log(data['hours'] / data['pop'])\n",
        "\n",
        "# Order by year\n",
        "data = data.sort_values('year')\n",
        "\n",
        "# Group by countrycode\n",
        "grouped_data = data.groupby('countrycode')\n",
        "\n",
        "# Calculate growth rates and Solow residual\n",
        "data['g'] = grouped_data['y_n'].diff() * 100  # Growth rate of GDP per capita\n",
        "data['tt'] = grouped_data['tfp_term'].diff() * 100 \n",
        "data['ct'] = grouped_data['cap_term'].diff() * 100\n",
        "\n",
        "# Remove missing values\n",
        "data = data.dropna()\n",
        "\n",
        "# Calculate summary statistics\n",
        "summary = data.groupby('countrycode').agg({'g': 'mean', 'a': 'mean', 't': 'mean', 'ct': 'mean', 'tt': 'mean'})\n",
        "\n",
        "# Calculate additional summary statistics\n",
        "summary['Growth Rate'] = summary['g']\n",
        "summary['TFP Growth'] = summary['tt']\n",
        "summary['Capital Deepening'] = summary['ct']\n",
        "summary['TFP Share'] = summary['t']\n",
        "summary['Capital Share'] = summary['a']\n",
        "\n",
        "# Print Output\n",
        "print(summary)\n",
        "\n"
      ]
    }
  ],
  "metadata": {
    "colab": {
      "provenance": []
    },
    "kernelspec": {
      "display_name": "Python 3",
      "name": "python3"
    },
    "language_info": {
      "codemirror_mode": {
        "name": "ipython",
        "version": 3
      },
      "file_extension": ".py",
      "mimetype": "text/x-python",
      "name": "python",
      "nbconvert_exporter": "python",
      "pygments_lexer": "ipython3",
      "version": "3.11.4"
    }
  },
  "nbformat": 4,
  "nbformat_minor": 0
}
